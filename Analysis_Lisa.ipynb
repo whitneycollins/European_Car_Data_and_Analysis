{
 "cells": [
  {
   "cell_type": "code",
   "execution_count": 1,
   "metadata": {},
   "outputs": [
    {
     "name": "stdout",
     "output_type": "stream",
     "text": [
      "The length of VIO Data 1 is: 114382 rows.\n",
      "The length of VIO Data 2 is: 155815 rows.\n",
      "The length of merged VIO Data is: 270197 rows.\n"
     ]
    }
   ],
   "source": [
    "#import dependencies\n",
    "%matplotlib inline\n",
    "import matplotlib.pyplot as plt\n",
    "import pandas as pd\n",
    "import numpy as np\n",
    "\n",
    "#paths to load csv files\n",
    "VIO_Data_1= pd.read_csv(\"Resources/VIO_Data_1_Final.csv\")\n",
    "VIO_Data_2= pd.read_csv(\"Resources/VIO_Data_2_Final.csv\")\n",
    "VIO_US_Data = pd.read_csv(\"Resources/VIO_US_Data.csv\")\n",
    "ACES_Data = pd.read_csv(\"Resources/ACES_Data.csv\")\n",
    "Parts_Data = pd.read_csv(\"Resources/Parts_Data.csv\")\n",
    "\n",
    "#merge the data into a single data set\n",
    "VIO_Data_Complete = pd.merge(VIO_Data_1, VIO_Data_2, how=\"outer\")\n",
    "print(f'The length of VIO Data 1 is: {len(VIO_Data_1)} rows.')\n",
    "print(f'The length of VIO Data 2 is: {len(VIO_Data_2)} rows.')\n",
    "print(f'The length of merged VIO Data is: {len(VIO_Data_Complete)} rows.')"
   ]
  },
  {
   "cell_type": "code",
   "execution_count": 2,
   "metadata": {},
   "outputs": [
    {
     "data": {
      "text/html": [
       "<div>\n",
       "<style scoped>\n",
       "    .dataframe tbody tr th:only-of-type {\n",
       "        vertical-align: middle;\n",
       "    }\n",
       "\n",
       "    .dataframe tbody tr th {\n",
       "        vertical-align: top;\n",
       "    }\n",
       "\n",
       "    .dataframe thead th {\n",
       "        text-align: right;\n",
       "    }\n",
       "</style>\n",
       "<table border=\"1\" class=\"dataframe\">\n",
       "  <thead>\n",
       "    <tr style=\"text-align: right;\">\n",
       "      <th></th>\n",
       "      <th>VehicleID</th>\n",
       "      <th>State</th>\n",
       "      <th>Year</th>\n",
       "      <th>Make</th>\n",
       "      <th>VIO</th>\n",
       "    </tr>\n",
       "  </thead>\n",
       "  <tbody>\n",
       "    <tr>\n",
       "      <th>0</th>\n",
       "      <td>545</td>\n",
       "      <td>Wisconsin</td>\n",
       "      <td>1993</td>\n",
       "      <td>Land Rover</td>\n",
       "      <td>2.0</td>\n",
       "    </tr>\n",
       "    <tr>\n",
       "      <th>1</th>\n",
       "      <td>545</td>\n",
       "      <td>Montana</td>\n",
       "      <td>1993</td>\n",
       "      <td>Land Rover</td>\n",
       "      <td>9.0</td>\n",
       "    </tr>\n",
       "    <tr>\n",
       "      <th>2</th>\n",
       "      <td>545</td>\n",
       "      <td>New Hampshire</td>\n",
       "      <td>1993</td>\n",
       "      <td>Land Rover</td>\n",
       "      <td>6.0</td>\n",
       "    </tr>\n",
       "    <tr>\n",
       "      <th>3</th>\n",
       "      <td>545</td>\n",
       "      <td>Wyoming</td>\n",
       "      <td>1993</td>\n",
       "      <td>Land Rover</td>\n",
       "      <td>2.0</td>\n",
       "    </tr>\n",
       "    <tr>\n",
       "      <th>4</th>\n",
       "      <td>545</td>\n",
       "      <td>Florida</td>\n",
       "      <td>1993</td>\n",
       "      <td>Land Rover</td>\n",
       "      <td>14.0</td>\n",
       "    </tr>\n",
       "  </tbody>\n",
       "</table>\n",
       "</div>"
      ],
      "text/plain": [
       "   VehicleID          State  Year        Make   VIO\n",
       "0        545      Wisconsin  1993  Land Rover   2.0\n",
       "1        545        Montana  1993  Land Rover   9.0\n",
       "2        545  New Hampshire  1993  Land Rover   6.0\n",
       "3        545        Wyoming  1993  Land Rover   2.0\n",
       "4        545        Florida  1993  Land Rover  14.0"
      ]
     },
     "execution_count": 2,
     "metadata": {},
     "output_type": "execute_result"
    }
   ],
   "source": [
    "#print out the first 5 rows of the data set\n",
    "VIO_Data_Complete.head()"
   ]
  },
  {
   "cell_type": "code",
   "execution_count": 3,
   "metadata": {},
   "outputs": [
    {
     "data": {
      "text/plain": [
       "VehicleID    270197\n",
       "State        268231\n",
       "Year         270197\n",
       "Make         270197\n",
       "VIO          268231\n",
       "dtype: int64"
      ]
     },
     "execution_count": 3,
     "metadata": {},
     "output_type": "execute_result"
    }
   ],
   "source": [
    "#display counts of rows by column to determine if we need to drop any missing values\n",
    "VIO_Data_Complete.count()"
   ]
  },
  {
   "cell_type": "code",
   "execution_count": 4,
   "metadata": {},
   "outputs": [
    {
     "data": {
      "text/plain": [
       "VehicleID    268231\n",
       "State        268231\n",
       "Year         268231\n",
       "Make         268231\n",
       "VIO          268231\n",
       "dtype: int64"
      ]
     },
     "execution_count": 4,
     "metadata": {},
     "output_type": "execute_result"
    }
   ],
   "source": [
    "#we found that there were blank rows in the State and VIO columns, so we are dropping all blanks\n",
    "VIO_Data_Clean = VIO_Data_Complete.dropna(how=\"any\")\n",
    "\n",
    "#verify that the counts are now correct\n",
    "VIO_Data_Clean.count()"
   ]
  },
  {
   "cell_type": "code",
   "execution_count": 5,
   "metadata": {},
   "outputs": [
    {
     "data": {
      "text/plain": [
       "VehicleID      int64\n",
       "State         object\n",
       "Year           int64\n",
       "Make          object\n",
       "VIO          float64\n",
       "dtype: object"
      ]
     },
     "execution_count": 5,
     "metadata": {},
     "output_type": "execute_result"
    }
   ],
   "source": [
    "#check data types of the VIO data set\n",
    "VIO_Data_Complete.dtypes"
   ]
  },
  {
   "cell_type": "code",
   "execution_count": 6,
   "metadata": {},
   "outputs": [
    {
     "data": {
      "text/html": [
       "<div>\n",
       "<style scoped>\n",
       "    .dataframe tbody tr th:only-of-type {\n",
       "        vertical-align: middle;\n",
       "    }\n",
       "\n",
       "    .dataframe tbody tr th {\n",
       "        vertical-align: top;\n",
       "    }\n",
       "\n",
       "    .dataframe thead th {\n",
       "        text-align: right;\n",
       "    }\n",
       "</style>\n",
       "<table border=\"1\" class=\"dataframe\">\n",
       "  <thead>\n",
       "    <tr style=\"text-align: right;\">\n",
       "      <th></th>\n",
       "      <th>VehicleID</th>\n",
       "      <th>State</th>\n",
       "      <th>Year</th>\n",
       "      <th>Make</th>\n",
       "      <th>VIO</th>\n",
       "      <th>Age</th>\n",
       "    </tr>\n",
       "  </thead>\n",
       "  <tbody>\n",
       "    <tr>\n",
       "      <th>0</th>\n",
       "      <td>545</td>\n",
       "      <td>Wisconsin</td>\n",
       "      <td>1993</td>\n",
       "      <td>Land Rover</td>\n",
       "      <td>2.0</td>\n",
       "      <td>26</td>\n",
       "    </tr>\n",
       "    <tr>\n",
       "      <th>1</th>\n",
       "      <td>545</td>\n",
       "      <td>Montana</td>\n",
       "      <td>1993</td>\n",
       "      <td>Land Rover</td>\n",
       "      <td>9.0</td>\n",
       "      <td>26</td>\n",
       "    </tr>\n",
       "    <tr>\n",
       "      <th>2</th>\n",
       "      <td>545</td>\n",
       "      <td>New Hampshire</td>\n",
       "      <td>1993</td>\n",
       "      <td>Land Rover</td>\n",
       "      <td>6.0</td>\n",
       "      <td>26</td>\n",
       "    </tr>\n",
       "    <tr>\n",
       "      <th>3</th>\n",
       "      <td>545</td>\n",
       "      <td>Wyoming</td>\n",
       "      <td>1993</td>\n",
       "      <td>Land Rover</td>\n",
       "      <td>2.0</td>\n",
       "      <td>26</td>\n",
       "    </tr>\n",
       "    <tr>\n",
       "      <th>4</th>\n",
       "      <td>545</td>\n",
       "      <td>Florida</td>\n",
       "      <td>1993</td>\n",
       "      <td>Land Rover</td>\n",
       "      <td>14.0</td>\n",
       "      <td>26</td>\n",
       "    </tr>\n",
       "  </tbody>\n",
       "</table>\n",
       "</div>"
      ],
      "text/plain": [
       "   VehicleID          State  Year        Make   VIO  Age\n",
       "0        545      Wisconsin  1993  Land Rover   2.0   26\n",
       "1        545        Montana  1993  Land Rover   9.0   26\n",
       "2        545  New Hampshire  1993  Land Rover   6.0   26\n",
       "3        545        Wyoming  1993  Land Rover   2.0   26\n",
       "4        545        Florida  1993  Land Rover  14.0   26"
      ]
     },
     "execution_count": 6,
     "metadata": {},
     "output_type": "execute_result"
    }
   ],
   "source": [
    "#add age of cars column\n",
    "VIO_Data_Complete['Age'] = 2019 - VIO_Data_Complete['Year']\n",
    "VIO_Data_Complete.head()"
   ]
  },
  {
   "cell_type": "code",
   "execution_count": 7,
   "metadata": {},
   "outputs": [],
   "source": [
    "#output clean VIO data to a CSV file\n",
    "VIO_Data_Complete.to_csv(\"Output/VIO_Complete.csv\", index=False, header=True)"
   ]
  },
  {
   "cell_type": "code",
   "execution_count": 77,
   "metadata": {},
   "outputs": [
    {
     "data": {
      "text/html": [
       "<div>\n",
       "<style scoped>\n",
       "    .dataframe tbody tr th:only-of-type {\n",
       "        vertical-align: middle;\n",
       "    }\n",
       "\n",
       "    .dataframe tbody tr th {\n",
       "        vertical-align: top;\n",
       "    }\n",
       "\n",
       "    .dataframe thead th {\n",
       "        text-align: right;\n",
       "    }\n",
       "</style>\n",
       "<table border=\"1\" class=\"dataframe\">\n",
       "  <thead>\n",
       "    <tr style=\"text-align: right;\">\n",
       "      <th></th>\n",
       "      <th>ShortPartNumber</th>\n",
       "      <th>VehicleID</th>\n",
       "    </tr>\n",
       "  </thead>\n",
       "  <tbody>\n",
       "    <tr>\n",
       "      <th>0</th>\n",
       "      <td>000000000884</td>\n",
       "      <td>15200.0</td>\n",
       "    </tr>\n",
       "    <tr>\n",
       "      <th>1</th>\n",
       "      <td>20388002239040</td>\n",
       "      <td>15200.0</td>\n",
       "    </tr>\n",
       "    <tr>\n",
       "      <th>2</th>\n",
       "      <td>0375456528</td>\n",
       "      <td>15200.0</td>\n",
       "    </tr>\n",
       "    <tr>\n",
       "      <th>3</th>\n",
       "      <td>228613009</td>\n",
       "      <td>15200.0</td>\n",
       "    </tr>\n",
       "    <tr>\n",
       "      <th>4</th>\n",
       "      <td>000010128564</td>\n",
       "      <td>15200.0</td>\n",
       "    </tr>\n",
       "  </tbody>\n",
       "</table>\n",
       "</div>"
      ],
      "text/plain": [
       "  ShortPartNumber  VehicleID\n",
       "0    000000000884    15200.0\n",
       "1  20388002239040    15200.0\n",
       "2      0375456528    15200.0\n",
       "3       228613009    15200.0\n",
       "4    000010128564    15200.0"
      ]
     },
     "execution_count": 77,
     "metadata": {},
     "output_type": "execute_result"
    }
   ],
   "source": [
    "#print out the first five lines of the ACES data set\n",
    "ACES_Data.head()"
   ]
  },
  {
   "cell_type": "code",
   "execution_count": 9,
   "metadata": {},
   "outputs": [
    {
     "data": {
      "text/plain": [
       "ShortPartNumber     object\n",
       "VehicleID          float64\n",
       "dtype: object"
      ]
     },
     "execution_count": 9,
     "metadata": {},
     "output_type": "execute_result"
    }
   ],
   "source": [
    "#check data types in ACES dataset\n",
    "ACES_Data.dtypes"
   ]
  },
  {
   "cell_type": "code",
   "execution_count": 10,
   "metadata": {},
   "outputs": [
    {
     "data": {
      "text/plain": [
       "ShortPartNumber    2192930\n",
       "VehicleID          2191708\n",
       "dtype: int64"
      ]
     },
     "execution_count": 10,
     "metadata": {},
     "output_type": "execute_result"
    }
   ],
   "source": [
    "#display counts of rows by column to determine if we need to drop any missing values\n",
    "ACES_Data.count()"
   ]
  },
  {
   "cell_type": "code",
   "execution_count": 11,
   "metadata": {},
   "outputs": [
    {
     "data": {
      "text/plain": [
       "ShortPartNumber    2191708\n",
       "VehicleID          2191708\n",
       "dtype: int64"
      ]
     },
     "execution_count": 11,
     "metadata": {},
     "output_type": "execute_result"
    }
   ],
   "source": [
    "#we found that there were blank rows in the VehicleID column, so we are dropping all blanks\n",
    "ACES_Data_Clean = ACES_Data.dropna(how=\"any\")\n",
    "\n",
    "#verify that the counts are now correct\n",
    "ACES_Data_Clean.count()"
   ]
  },
  {
   "cell_type": "code",
   "execution_count": 20,
   "metadata": {},
   "outputs": [
    {
     "name": "stderr",
     "output_type": "stream",
     "text": [
      "/anaconda3/envs/PythonData2/lib/python3.6/site-packages/ipykernel_launcher.py:2: SettingWithCopyWarning: \n",
      "A value is trying to be set on a copy of a slice from a DataFrame.\n",
      "Try using .loc[row_indexer,col_indexer] = value instead\n",
      "\n",
      "See the caveats in the documentation: http://pandas.pydata.org/pandas-docs/stable/indexing.html#indexing-view-versus-copy\n",
      "  \n"
     ]
    },
    {
     "data": {
      "text/plain": [
       "ShortPartNumber    object\n",
       "VehicleID           int64\n",
       "dtype: object"
      ]
     },
     "execution_count": 20,
     "metadata": {},
     "output_type": "execute_result"
    }
   ],
   "source": [
    "#Vehicle ID should be int, not float\n",
    "ACES_Data_Clean['VehicleID'] = ACES_Data_Clean['VehicleID'].astype(int)\n",
    "#ACES_Data_Clean_1.dtypes\n",
    "ACES_Data_Clean.dtypes"
   ]
  },
  {
   "cell_type": "code",
   "execution_count": 13,
   "metadata": {},
   "outputs": [
    {
     "data": {
      "text/plain": [
       "ShortPartNumber     object\n",
       "VehicleID          float64\n",
       "dtype: object"
      ]
     },
     "execution_count": 13,
     "metadata": {},
     "output_type": "execute_result"
    }
   ],
   "source": [
    "#check data types of the ACES data set\n",
    "ACES_Data.dtypes"
   ]
  },
  {
   "cell_type": "code",
   "execution_count": 22,
   "metadata": {
    "scrolled": true
   },
   "outputs": [
    {
     "data": {
      "text/html": [
       "<div>\n",
       "<style scoped>\n",
       "    .dataframe tbody tr th:only-of-type {\n",
       "        vertical-align: middle;\n",
       "    }\n",
       "\n",
       "    .dataframe tbody tr th {\n",
       "        vertical-align: top;\n",
       "    }\n",
       "\n",
       "    .dataframe thead th {\n",
       "        text-align: right;\n",
       "    }\n",
       "</style>\n",
       "<table border=\"1\" class=\"dataframe\">\n",
       "  <thead>\n",
       "    <tr style=\"text-align: right;\">\n",
       "      <th></th>\n",
       "      <th>ShortPartNumber</th>\n",
       "      <th>Main Category</th>\n",
       "      <th>Part Type Name</th>\n",
       "      <th>QTY</th>\n",
       "    </tr>\n",
       "  </thead>\n",
       "  <tbody>\n",
       "    <tr>\n",
       "      <th>0</th>\n",
       "      <td>30758260</td>\n",
       "      <td>Engine</td>\n",
       "      <td>Timing Belt Kit</td>\n",
       "      <td>41</td>\n",
       "    </tr>\n",
       "    <tr>\n",
       "      <th>1</th>\n",
       "      <td>TB234K1</td>\n",
       "      <td>Engine</td>\n",
       "      <td>Timing Belt Kit</td>\n",
       "      <td>14</td>\n",
       "    </tr>\n",
       "    <tr>\n",
       "      <th>2</th>\n",
       "      <td>159321100</td>\n",
       "      <td>Engine</td>\n",
       "      <td>Timing Belt Kit</td>\n",
       "      <td>10</td>\n",
       "    </tr>\n",
       "    <tr>\n",
       "      <th>3</th>\n",
       "      <td>TB131K1</td>\n",
       "      <td>Engine</td>\n",
       "      <td>Timing Belt Kit</td>\n",
       "      <td>433</td>\n",
       "    </tr>\n",
       "    <tr>\n",
       "      <th>4</th>\n",
       "      <td>TB032K1</td>\n",
       "      <td>Engine</td>\n",
       "      <td>Timing Belt Kit</td>\n",
       "      <td>47</td>\n",
       "    </tr>\n",
       "  </tbody>\n",
       "</table>\n",
       "</div>"
      ],
      "text/plain": [
       "  ShortPartNumber Main Category   Part Type Name  QTY\n",
       "0        30758260        Engine  Timing Belt Kit   41\n",
       "1         TB234K1        Engine  Timing Belt Kit   14\n",
       "2       159321100        Engine  Timing Belt Kit   10\n",
       "3         TB131K1        Engine  Timing Belt Kit  433\n",
       "4         TB032K1        Engine  Timing Belt Kit   47"
      ]
     },
     "execution_count": 22,
     "metadata": {},
     "output_type": "execute_result"
    }
   ],
   "source": [
    "#print out the first five lines of the Parts data set\n",
    "Parts_Data.head()"
   ]
  },
  {
   "cell_type": "code",
   "execution_count": 15,
   "metadata": {},
   "outputs": [
    {
     "data": {
      "text/plain": [
       "ShortPartNumber    44620\n",
       "Main Category      44602\n",
       "Part Type Name     44608\n",
       "QTY                44620\n",
       "dtype: int64"
      ]
     },
     "execution_count": 15,
     "metadata": {},
     "output_type": "execute_result"
    }
   ],
   "source": [
    "#display counts of rows by column to determine if we need to drop any missing values\n",
    "Parts_Data.count()"
   ]
  },
  {
   "cell_type": "code",
   "execution_count": 29,
   "metadata": {},
   "outputs": [
    {
     "data": {
      "text/plain": [
       "ShortPartNumber    44602\n",
       "Main Category      44602\n",
       "Part Type Name     44602\n",
       "QTY                44602\n",
       "dtype: int64"
      ]
     },
     "execution_count": 29,
     "metadata": {},
     "output_type": "execute_result"
    }
   ],
   "source": [
    "#we found that there were blank rows in several columns, so we are dropping all blanks\n",
    "Parts_Data_Clean = Parts_Data.dropna(how=\"any\")\n",
    "\n",
    "#verify that the counts are now correct\n",
    "Parts_Data_Clean.count()"
   ]
  },
  {
   "cell_type": "code",
   "execution_count": 17,
   "metadata": {},
   "outputs": [
    {
     "data": {
      "text/plain": [
       "ShortPartNumber    object\n",
       "Main Category      object\n",
       "Part Type Name     object\n",
       "QTY                 int64\n",
       "dtype: object"
      ]
     },
     "execution_count": 17,
     "metadata": {},
     "output_type": "execute_result"
    }
   ],
   "source": [
    "#check data types of the Parts data set\n",
    "Parts_Data.dtypes"
   ]
  },
  {
   "cell_type": "code",
   "execution_count": 105,
   "metadata": {},
   "outputs": [
    {
     "data": {
      "text/html": [
       "<div>\n",
       "<style scoped>\n",
       "    .dataframe tbody tr th:only-of-type {\n",
       "        vertical-align: middle;\n",
       "    }\n",
       "\n",
       "    .dataframe tbody tr th {\n",
       "        vertical-align: top;\n",
       "    }\n",
       "\n",
       "    .dataframe thead th {\n",
       "        text-align: right;\n",
       "    }\n",
       "</style>\n",
       "<table border=\"1\" class=\"dataframe\">\n",
       "  <thead>\n",
       "    <tr style=\"text-align: right;\">\n",
       "      <th></th>\n",
       "      <th>ShortPartNumber</th>\n",
       "      <th>Main Category</th>\n",
       "      <th>Part Type Name</th>\n",
       "      <th>QTY</th>\n",
       "      <th>VehicleID</th>\n",
       "    </tr>\n",
       "  </thead>\n",
       "  <tbody>\n",
       "    <tr>\n",
       "      <th>0</th>\n",
       "      <td>30758260</td>\n",
       "      <td>Engine</td>\n",
       "      <td>Timing Belt Kit</td>\n",
       "      <td>41</td>\n",
       "      <td>1510</td>\n",
       "    </tr>\n",
       "    <tr>\n",
       "      <th>1</th>\n",
       "      <td>30758260</td>\n",
       "      <td>Engine</td>\n",
       "      <td>Timing Belt Kit</td>\n",
       "      <td>41</td>\n",
       "      <td>1506</td>\n",
       "    </tr>\n",
       "    <tr>\n",
       "      <th>2</th>\n",
       "      <td>30758260</td>\n",
       "      <td>Engine</td>\n",
       "      <td>Timing Belt Kit</td>\n",
       "      <td>41</td>\n",
       "      <td>1511</td>\n",
       "    </tr>\n",
       "    <tr>\n",
       "      <th>3</th>\n",
       "      <td>30758260</td>\n",
       "      <td>Engine</td>\n",
       "      <td>Timing Belt Kit</td>\n",
       "      <td>41</td>\n",
       "      <td>1513</td>\n",
       "    </tr>\n",
       "    <tr>\n",
       "      <th>4</th>\n",
       "      <td>30758260</td>\n",
       "      <td>Engine</td>\n",
       "      <td>Timing Belt Kit</td>\n",
       "      <td>41</td>\n",
       "      <td>1507</td>\n",
       "    </tr>\n",
       "  </tbody>\n",
       "</table>\n",
       "</div>"
      ],
      "text/plain": [
       "  ShortPartNumber Main Category   Part Type Name  QTY  VehicleID\n",
       "0        30758260        Engine  Timing Belt Kit   41       1510\n",
       "1        30758260        Engine  Timing Belt Kit   41       1506\n",
       "2        30758260        Engine  Timing Belt Kit   41       1511\n",
       "3        30758260        Engine  Timing Belt Kit   41       1513\n",
       "4        30758260        Engine  Timing Belt Kit   41       1507"
      ]
     },
     "execution_count": 105,
     "metadata": {},
     "output_type": "execute_result"
    }
   ],
   "source": [
    "merge_on_partNumber = pd.DataFrame.merge(Parts_Data_Clean, ACES_Data_Clean, how='inner', on='ShortPartNumber')\n",
    "merge_on_partNumber.head()"
   ]
  },
  {
   "cell_type": "code",
   "execution_count": null,
   "metadata": {},
   "outputs": [],
   "source": []
  },
  {
   "cell_type": "code",
   "execution_count": 114,
   "metadata": {},
   "outputs": [
    {
     "data": {
      "text/html": [
       "<div>\n",
       "<style scoped>\n",
       "    .dataframe tbody tr th:only-of-type {\n",
       "        vertical-align: middle;\n",
       "    }\n",
       "\n",
       "    .dataframe tbody tr th {\n",
       "        vertical-align: top;\n",
       "    }\n",
       "\n",
       "    .dataframe thead th {\n",
       "        text-align: right;\n",
       "    }\n",
       "</style>\n",
       "<table border=\"1\" class=\"dataframe\">\n",
       "  <thead>\n",
       "    <tr style=\"text-align: right;\">\n",
       "      <th></th>\n",
       "      <th>ShortPartNumber</th>\n",
       "      <th>Main Category</th>\n",
       "      <th>Part Type Name</th>\n",
       "      <th>QTY</th>\n",
       "      <th>VehicleID</th>\n",
       "      <th>Make</th>\n",
       "      <th>VIO</th>\n",
       "    </tr>\n",
       "  </thead>\n",
       "  <tbody>\n",
       "    <tr>\n",
       "      <th>0</th>\n",
       "      <td>30758260</td>\n",
       "      <td>Engine</td>\n",
       "      <td>Timing Belt Kit</td>\n",
       "      <td>41</td>\n",
       "      <td>1510</td>\n",
       "      <td>Volvo</td>\n",
       "      <td>1727.0</td>\n",
       "    </tr>\n",
       "    <tr>\n",
       "      <th>1</th>\n",
       "      <td>30758260</td>\n",
       "      <td>Engine</td>\n",
       "      <td>Timing Belt Kit</td>\n",
       "      <td>41</td>\n",
       "      <td>1506</td>\n",
       "      <td>Volvo</td>\n",
       "      <td>1855.0</td>\n",
       "    </tr>\n",
       "    <tr>\n",
       "      <th>2</th>\n",
       "      <td>30758260</td>\n",
       "      <td>Engine</td>\n",
       "      <td>Timing Belt Kit</td>\n",
       "      <td>41</td>\n",
       "      <td>1511</td>\n",
       "      <td>Volvo</td>\n",
       "      <td>1136.0</td>\n",
       "    </tr>\n",
       "    <tr>\n",
       "      <th>3</th>\n",
       "      <td>30758260</td>\n",
       "      <td>Engine</td>\n",
       "      <td>Timing Belt Kit</td>\n",
       "      <td>41</td>\n",
       "      <td>1513</td>\n",
       "      <td>Volvo</td>\n",
       "      <td>1222.0</td>\n",
       "    </tr>\n",
       "    <tr>\n",
       "      <th>4</th>\n",
       "      <td>30758260</td>\n",
       "      <td>Engine</td>\n",
       "      <td>Timing Belt Kit</td>\n",
       "      <td>41</td>\n",
       "      <td>1507</td>\n",
       "      <td>Volvo</td>\n",
       "      <td>2946.0</td>\n",
       "    </tr>\n",
       "  </tbody>\n",
       "</table>\n",
       "</div>"
      ],
      "text/plain": [
       "  ShortPartNumber Main Category   Part Type Name  QTY  VehicleID   Make  \\\n",
       "0        30758260        Engine  Timing Belt Kit   41       1510  Volvo   \n",
       "1        30758260        Engine  Timing Belt Kit   41       1506  Volvo   \n",
       "2        30758260        Engine  Timing Belt Kit   41       1511  Volvo   \n",
       "3        30758260        Engine  Timing Belt Kit   41       1513  Volvo   \n",
       "4        30758260        Engine  Timing Belt Kit   41       1507  Volvo   \n",
       "\n",
       "      VIO  \n",
       "0  1727.0  \n",
       "1  1855.0  \n",
       "2  1136.0  \n",
       "3  1222.0  \n",
       "4  2946.0  "
      ]
     },
     "execution_count": 114,
     "metadata": {},
     "output_type": "execute_result"
    }
   ],
   "source": [
    "#make smaller dataframe from VIO_Data_Complete\n",
    "VIO_Data_Clean_columns = VIO_Data_Clean[['VehicleID','Make', 'VIO']]\n",
    "\n",
    "#groupby VehicleID and sum the VIO\n",
    "VIO_Data_Clean_Sum_VIO = VIO_Data_Clean_columns.groupby(['VehicleID', 'Make'])['VIO'].sum()\n",
    "\n",
    "#convert to a datafame from a series to be able to merge back to table\n",
    "Sum_VIO_df = pd.DataFrame(VIO_Data_Clean_Sum_VIO)\n",
    "Sum_VIO_df.head()\n",
    "reset_index_df = Sum_VIO_df.reset_index()\n",
    "\n",
    "#final merge to add VIO sum to merge_on_partNumber dataframe\n",
    "final_merged_dataframe = pd.DataFrame.merge(merge_on_partNumber, reset, how='left', on='VehicleID')\n",
    "final_merged_dataframe.head()"
   ]
  },
  {
   "cell_type": "code",
   "execution_count": null,
   "metadata": {},
   "outputs": [],
   "source": []
  },
  {
   "cell_type": "code",
   "execution_count": null,
   "metadata": {},
   "outputs": [],
   "source": []
  },
  {
   "cell_type": "code",
   "execution_count": null,
   "metadata": {},
   "outputs": [],
   "source": []
  },
  {
   "cell_type": "code",
   "execution_count": null,
   "metadata": {},
   "outputs": [],
   "source": []
  },
  {
   "cell_type": "code",
   "execution_count": null,
   "metadata": {},
   "outputs": [],
   "source": []
  },
  {
   "cell_type": "code",
   "execution_count": null,
   "metadata": {},
   "outputs": [],
   "source": []
  }
 ],
 "metadata": {
  "kernelspec": {
   "display_name": "Python [conda env:PythonData] *",
   "language": "python",
   "name": "conda-env-PythonData-py"
  },
  "language_info": {
   "codemirror_mode": {
    "name": "ipython",
    "version": 3
   },
   "file_extension": ".py",
   "mimetype": "text/x-python",
   "name": "python",
   "nbconvert_exporter": "python",
   "pygments_lexer": "ipython3",
   "version": "3.6.8"
  }
 },
 "nbformat": 4,
 "nbformat_minor": 2
}
